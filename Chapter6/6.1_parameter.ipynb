{
 "cells": [
  {
   "cell_type": "code",
   "execution_count": 8,
   "metadata": {},
   "outputs": [],
   "source": [
    "# 필요한 라이브러리 설치 및 임포트\n",
    "# !pip install transformers==4.35.0 datasets bitsandbytes accelerate\n",
    "# !uv pip install transformers==4.35.0 datasets bitsandbytes accelerate"
   ]
  },
  {
   "cell_type": "code",
   "execution_count": null,
   "metadata": {},
   "outputs": [
    {
     "data": {
      "application/vnd.jupyter.widget-view+json": {
       "model_id": "4f97a02ad212441f865b2ed844c23d7f",
       "version_major": 2,
       "version_minor": 0
      },
      "text/plain": [
       "Generating train split: 0 examples [00:00, ? examples/s]"
      ]
     },
     "metadata": {},
     "output_type": "display_data"
    },
    {
     "name": "stdout",
     "output_type": "stream",
     "text": [
      "데이터셋 로드 완료: 5 샘플\n",
      "TrainingArguments 설정 완료!\n",
      "학습률: 0.0003, 옵티마이저: paged_adamw_32bit\n",
      "Gradient 누적: 4단계, BF16: True, Checkpointing: True\n"
     ]
    }
   ],
   "source": [
    "from datasets import load_dataset\n",
    "from transformers import TrainingArguments\n",
    "import pandas as pd\n",
    "\n",
    "# 샘플 데이터셋 생성\n",
    "sample_data = {\n",
    "    'text': [\n",
    "        '안녕하세요. 오늘 날씨가 정말 좋네요.',\n",
    "        '머신러닝을 공부하는 것은 흥미롭습니다.',\n",
    "        '파이썬 프로그래밍은 데이터 과학에 유용합니다.',\n",
    "        '자연어 처리는 AI의 중요한 분야입니다.',\n",
    "        '딥러닝 모델 훈련에는 많은 데이터가 필요합니다.'\n",
    "    ]\n",
    "}\n",
    "\n",
    "# CSV 파일 생성 및 데이터셋 로드\n",
    "df = pd.DataFrame(sample_data)\n",
    "csv_path = './finetune_data.csv'\n",
    "df.to_csv(csv_path, index=False)\n",
    "\n",
    "tune_data = load_dataset(\"csv\", data_files=csv_path)\n",
    "print(f\"데이터셋 로드 완료: {len(tune_data['train'])} 샘플\")\n",
    "\n",
    "# 하이퍼파라미터 설정\n",
    "optim = \"paged_adamw_32bit\"\n",
    "learning_rate = 3e-4\n",
    "weight_decay = 0.01\n",
    "lr_scheduler_type = 'cosine'\n",
    "warmup_ratio = 0.03\n",
    "gradient_accumulation_steps = 4\n",
    "fp16 = True  # bf16 대신 fp16 사용\n",
    "gradient_checkpointing = True\n",
    "\n",
    "# TrainingArguments 설정\n",
    "training_args = TrainingArguments(\n",
    "    output_dir='./results',\n",
    "    num_train_epochs=3,\n",
    "    per_device_train_batch_size=4,\n",
    "    gradient_accumulation_steps=gradient_accumulation_steps,\n",
    "    learning_rate=learning_rate,\n",
    "    weight_decay=weight_decay,\n",
    "    warmup_ratio=warmup_ratio,\n",
    "    lr_scheduler_type=lr_scheduler_type,\n",
    "    optim=optim,\n",
    "    fp16=fp16,  # GPU 환경이 아닐 때 bf16 대신 fp16 사용\n",
    "    gradient_checkpointing=gradient_checkpointing,\n",
    "    logging_steps=10,\n",
    "    save_steps=100,\n",
    "    report_to=\"none\"\n",
    ")\n",
    "\n",
    "print(\"TrainingArguments 설정 완료!\")\n",
    "print(f\"학습률: {learning_rate}, 옵티마이저: {optim}\")\n",
    "print(f\"Gradient 누적: {gradient_accumulation_steps}단계, BF16: {bf16}, Checkpointing: {gradient_checkpointing}\")"
   ]
  },
  {
   "cell_type": "code",
   "execution_count": null,
   "metadata": {},
   "outputs": [],
   "source": []
  }
 ],
 "metadata": {
  "kernelspec": {
   "display_name": ".venv",
   "language": "python",
   "name": "python3"
  },
  "language_info": {
   "codemirror_mode": {
    "name": "ipython",
    "version": 3
   },
   "file_extension": ".py",
   "mimetype": "text/x-python",
   "name": "python",
   "nbconvert_exporter": "python",
   "pygments_lexer": "ipython3",
   "version": "3.13.2"
  }
 },
 "nbformat": 4,
 "nbformat_minor": 2
}
