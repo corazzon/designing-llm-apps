{
 "cells": [
  {
   "cell_type": "code",
   "execution_count": null,
   "metadata": {},
   "outputs": [],
   "source": [
    "# !uv pip install langdetect\n",
    "# !pip install langdetect"
   ]
  },
  {
   "cell_type": "code",
   "execution_count": null,
   "metadata": {},
   "outputs": [],
   "source": [
    "from langdetect import detect_langs\n",
    "\n",
    "detect_langs(\"\"\"Pag-uwi ko galing sa paaralan, sobrang pagod ako dahil sa dami\n",
    "ng aking ginawa sa buong araw. Ang traffic din sa kalsada, nakaka-stress\n",
    "talaga! Pero nang makarating ako sa aking tahanan, nabuhayan ako ng loob dahil\n",
    "sa masarap na amoy ng ulam na inihanda ni nanay. Excited na akong kumain\n",
    "kasama ang aking pamilya at i-share ang mga kwento ko tungkol sa aking mga\n",
    "kaibigan, guro, at mga natutunan ko sa school. After dinner, magre-relax muna\n",
    "ako habang nanonood ng TV, and then magre-review ng lessons bago matulog. Ito\n",
    "ang routine ko pag-uwi mula sa school, at masaya ako na dumating sa bahay namay\n",
    "naghihintay na pamilya na handang makinig at suportahan ako sa aking\n",
    "pag-aaral.\"\"\")\n"
   ]
  },
  {
   "cell_type": "code",
   "execution_count": null,
   "metadata": {},
   "outputs": [],
   "source": [
    "detect_langs(\"\"\"After a long day at school, pagod na pagod talaga ako. The\n",
    "traffic on the way home didn't help, nakakastress na nga! But upon arriving\n",
    "home, I felt a sense of relief dahil sa welcoming atmosphere and the delicious\n",
    "aroma of the ulam na inihanda ni Mommy. Excited na akong mag-share ng\n",
    "experiences ko today with my family during dinner, kasama ang mga kwento about\n",
    "my friends, teachers, and interesting lessons sa school. After eating, it's\n",
    "time for me to chill while watching some TV shows, and then review my lessons\n",
    "bago ako matulog. This is my daily routine pag-uwi galing school, and I am\n",
    "grateful na may loving family ako na handang makinig at supportahan ako sa\n",
    "aking educational journey.\"\"\")"
   ]
  },
  {
   "cell_type": "code",
   "execution_count": null,
   "metadata": {},
   "outputs": [],
   "source": [
    "detect_langs('I love you too.')"
   ]
  }
 ],
 "metadata": {
  "kernelspec": {
   "display_name": ".venv",
   "language": "python",
   "name": "python3"
  },
  "language_info": {
   "codemirror_mode": {
    "name": "ipython",
    "version": 3
   },
   "file_extension": ".py",
   "mimetype": "text/x-python",
   "name": "python",
   "nbconvert_exporter": "python",
   "pygments_lexer": "ipython3",
   "version": "3.13.2"
  }
 },
 "nbformat": 4,
 "nbformat_minor": 2
}
