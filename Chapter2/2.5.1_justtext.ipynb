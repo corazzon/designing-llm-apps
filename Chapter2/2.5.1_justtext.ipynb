{
 "cells": [
  {
   "cell_type": "markdown",
   "metadata": {},
   "source": [
    "### 2.5.1 데이터 필터링 및 정제"
   ]
  },
  {
   "cell_type": "code",
   "execution_count": null,
   "metadata": {},
   "outputs": [],
   "source": [
    "!pip install justext\n",
    "\n",
    "import requests\n",
    "import justext\n",
    "\n",
    "response = requests.get(\"https://en.wikipedia.org/wiki/Toronto_Transit_Commission\")\n",
    "text = justext.justext(response.content, justext.get_stoplist(\"English\"))\n",
    "\n",
    "for content in text:\n",
    "    if content.is_boilerplate:\n",
    "        print(content.text)"
   ]
  }
 ],
 "metadata": {
  "language_info": {
   "name": "python"
  }
 },
 "nbformat": 4,
 "nbformat_minor": 2
}
