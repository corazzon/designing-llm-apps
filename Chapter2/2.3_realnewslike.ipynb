{
 "cells": [
  {
   "cell_type": "markdown",
   "metadata": {},
   "source": [
    "## 2.3 대표적인 사전 훈련 데이터셋"
   ]
  },
  {
   "cell_type": "code",
   "execution_count": null,
   "metadata": {},
   "outputs": [],
   "source": [
    "!pip install datasets"
   ]
  },
  {
   "cell_type": "code",
   "execution_count": null,
   "metadata": {},
   "outputs": [],
   "source": [
    "from datasets import load_dataset\n",
    "\n",
    "realnewslike = load_dataset(\"allenai/c4\", \"realnewslike\", streaming=True, split=\"train\")\n",
    "\n",
    "for i, example in enumerate(realnewslike):\n",
    "    if \"Iceland\" in example[\"text\"]:\n",
    "        print(example)\n",
    "    if i == 10000:  # 예제 확인을 위해 최대 10,000회 반복\n",
    "        break"
   ]
  }
 ],
 "metadata": {
  "language_info": {
   "name": "python"
  }
 },
 "nbformat": 4,
 "nbformat_minor": 2
}
