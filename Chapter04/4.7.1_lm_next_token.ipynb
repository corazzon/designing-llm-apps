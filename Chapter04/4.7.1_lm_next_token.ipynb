{
 "cells": [
  {
   "cell_type": "code",
   "execution_count": null,
   "metadata": {},
   "outputs": [],
   "source": [
    "import torch\n",
    "from transformers import AutoTokenizer, GPTNeoForCausalLM\n",
    "\n",
    "tokenizer = AutoTokenizer.from_pretrained(\"EleutherAI/gpt-neo-1.3B\")\n",
    "model = GPTNeoForCausalLM.from_pretrained(\"EleutherAI/gpt-neo-1.3B\")\n",
    "\n",
    "input_ids = tokenizer(\"Language models are\", return_tensors=\"pt\")\n",
    "gen_tokens = model.generate(**input_ids, max_new_tokens=1, output_scores=True, return_dict_in_generate=True)\n",
    "output_scores = gen_tokens[\"scores\"]\n",
    "scores_tensor = output_scores[0]\n",
    "sorted_indices = torch.argsort(scores_tensor[0], descending=True)[:20]\n",
    "\n",
    "for index in sorted_indices:\n",
    "    token_id = index\n",
    "    token_name = tokenizer.decode([token_id.item()])\n",
    "    token_score = scores_tensor[0][index].item()\n",
    "    print(f\"Token: {token_name}, Score: {token_score}\")\n"
   ]
  },
  {
   "cell_type": "code",
   "execution_count": null,
   "metadata": {},
   "outputs": [],
   "source": [
    "input_ids = tokenizer(\"'I had 25 eggs. I gave away 12. I now have\",\n",
    "    return_tensors=\"pt\")\n",
    "input_ids"
   ]
  },
  {
   "cell_type": "markdown",
   "metadata": {},
   "source": [
    "## 오픈AI API 사용하기"
   ]
  },
  {
   "cell_type": "code",
   "execution_count": null,
   "metadata": {},
   "outputs": [],
   "source": [
    "from openai import OpenAI\n",
    "\n",
    "# OpenAI 클라이언트 초기화\n",
    "client = OpenAI(api_key=\"여기에 API 키를 입력하세요\")\n",
    "\n",
    "# API 호출\n",
    "response = client.chat.completions.create(\n",
    "    model=\"gpt-4o\",\n",
    "    messages=[{\"role\": \"user\", \n",
    "               \"content\": \"I had 25 eggs. I gave away 12. I now have\"}],\n",
    "    max_tokens=1,\n",
    "    temperature=0,\n",
    "    logprobs=True,\n",
    "    top_logprobs=10\n",
    ")\n",
    "\n",
    "# 결과 출력\n",
    "print(f\"Generated: {response.choices[0].message.content}\")\n",
    "print(\"Top probabilities:\")\n",
    "for token in response.choices[0].logprobs.content[0].top_logprobs:\n",
    "    print(f\"'{token.token}': {token.logprob:.4f}\")"
   ]
  },
  {
   "cell_type": "code",
   "execution_count": null,
   "metadata": {},
   "outputs": [],
   "source": []
  }
 ],
 "metadata": {
  "kernelspec": {
   "display_name": ".venv",
   "language": "python",
   "name": "python3"
  },
  "language_info": {
   "codemirror_mode": {
    "name": "ipython",
    "version": 3
   },
   "file_extension": ".py",
   "mimetype": "text/x-python",
   "name": "python",
   "nbconvert_exporter": "python",
   "pygments_lexer": "ipython3",
   "version": "3.13.2"
  }
 },
 "nbformat": 4,
 "nbformat_minor": 2
}
