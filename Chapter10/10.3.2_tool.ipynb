{
 "cells": [
  {
   "cell_type": "markdown",
   "metadata": {},
   "source": [
    "## 10.3.2 도구"
   ]
  },
  {
   "cell_type": "code",
   "execution_count": null,
   "metadata": {},
   "outputs": [],
   "source": [
    "from openai import OpenAI\n",
    "\n",
    "# OpenAI 클라이언트 초기화\n",
    "client = OpenAI(api_key='OPENAI_API_KEY')"
   ]
  },
  {
   "cell_type": "code",
   "execution_count": null,
   "metadata": {},
   "outputs": [],
   "source": [
    "from langchain_community.tools import DuckDuckGoSearchRun\n",
    "\n",
    "query = \"토론토의 오늘 날씨는 어떤가요?\"\n",
    "search_engine = DuckDuckGoSearchRun()\n",
    "output = search_engine.run(query)\n"
   ]
  },
  {
   "cell_type": "code",
   "execution_count": null,
   "metadata": {},
   "outputs": [],
   "source": [
    "!pip install wikipedia\n",
    "\n",
    "from langchain.tools import WikipediaQueryRun\n",
    "from langchain_community.utilities import WikipediaAPIWrapper\n",
    "\n",
    "wikipedia = WikipediaQueryRun(api_wrapper=WikipediaAPIWrapper())\n",
    "output = wikipedia.load(\"Winter Olympics\")\n"
   ]
  },
  {
   "cell_type": "code",
   "execution_count": null,
   "metadata": {},
   "outputs": [],
   "source": [
    "from langchain_experimental.utilities import PythonREPL\n",
    "\n",
    "python = PythonREPL()\n",
    "python.run(\"456 * 345\")\n"
   ]
  },
  {
   "cell_type": "code",
   "execution_count": null,
   "metadata": {},
   "outputs": [],
   "source": [
    "import sqlalchemy as sa\n",
    "from langchain_community.utilities import SQLDatabase\n",
    "\n",
    "DATABASE_URI = <database_uri>\n",
    "db = SQLDatabase.from_uri(DATABASE_URI)\n",
    "\n",
    "output = db.run(\n",
    "    \"SELECT * FROM COMPANIES WHERE Name LIKE :comp;\",\n",
    "    parameters={\"comp\": \"Apple%\"},\n",
    "    fetch=\"all\"\n",
    ")"
   ]
  },
  {
   "cell_type": "code",
   "execution_count": null,
   "metadata": {},
   "outputs": [],
   "source": [
    "from langchain.agents import initialize_agent, Tool\n",
    "from langchain.agents import AgentType\n",
    "from langchain_community.tools import DuckDuckGoSearchRun\n",
    "from langchain_openai import ChatOpenAI\n",
    "from langchain_core.messages import HumanMessage\n",
    "\n",
    "search_engine = DuckDuckGoSearchRun()\n",
    "model = ChatOpenAI(model=\"gpt-4o\")\n",
    "\n",
    "tools = [\n",
    "    Tool(\n",
    "        name=\"Search\",\n",
    "        func=search_engine.run,\n",
    "        description=\"사실 기반 질문에 답하기 위한 검색 엔진\"\n",
    "    )\n",
    "]\n",
    "\n",
    "agent = initialize_agent(tools, model, verbose=True)\n",
    "agent.run(\"독일 북부에 가볼 만한 관광지는 어디가 있나요?\")\n"
   ]
  }
 ],
 "metadata": {
  "language_info": {
   "name": "python"
  }
 },
 "nbformat": 4,
 "nbformat_minor": 2
}
