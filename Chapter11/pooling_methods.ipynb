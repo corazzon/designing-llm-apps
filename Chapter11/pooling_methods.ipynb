{
 "cells": [
  {
   "cell_type": "code",
   "execution_count": null,
   "metadata": {},
   "outputs": [],
   "source": [
    "! pip install transformers datasets sentence_transformers"
   ]
  },
  {
   "cell_type": "code",
   "execution_count": null,
   "metadata": {},
   "outputs": [],
   "source": [
    "from sentence_transformers import SentenceTransformer, models, util\n",
    "from scipy.spatial.distance import cityblock, chebyshev\n",
    "import pandas as pd\n",
    "\n",
    "results = [['pooling_mode','cosine_similarity','euclidean_distance','manhattan_distance','dot_product','chebyshev_distance']]\n",
    "\n",
    "# Load the pre-trained transformer model\n",
    "word_embedding_model = models.Transformer('sentence-transformers/msmarco-distilbert-base-tas-b')\n",
    "\n",
    "\n",
    "for pooling_mode in ['cls', 'lasttoken', 'max', 'mean', 'mean_sqrt_len_tokens', 'weightedmean']:\n",
    "\n",
    "  # Configure pooling - here we use CLS token pooling\n",
    "  pooling_model = models.Pooling(\n",
    "      word_embedding_dimension=word_embedding_model.get_word_embedding_dimension(),\n",
    "      pooling_mode=pooling_mode\n",
    "  )\n",
    "\n",
    "  # Build the SentenceTransformer model with custom pooling\n",
    "  custom_model = SentenceTransformer(modules=[word_embedding_model, pooling_model])\n",
    "\n",
    "  # Encode sentences\n",
    "  embedding1 = custom_model.encode(\"American pizza is one of the nation’s greatest cultural exports\")\n",
    "\n",
    "  embedding2 = custom_model.encode(\"Pizza is not authentic Italian pizza, as its inception is attributed to New York City\")\n",
    "\n",
    "  # Find distances\n",
    "  cosine_similarity = util.cos_sim(embedding1, embedding2).item()\n",
    "  euclidean_distance = util.pytorch_cos_sim(embedding1, embedding2).norm().item()\n",
    "  manhattan_distance = cityblock(embedding1, embedding2)\n",
    "  dot_product = util.dot_score(embedding1, embedding2).item()\n",
    "  chebyshev_distance = chebyshev(embedding1, embedding2)\n",
    "\n",
    "  # Add to results\n",
    "  results.append([\n",
    "      pooling_mode,\n",
    "      cosine_similarity,\n",
    "      euclidean_distance,\n",
    "      manhattan_distance,\n",
    "      dot_product,\n",
    "      chebyshev_distance\n",
    "      ])\n",
    "\n",
    "pd.DataFrame(results[1:], columns=results[0])"
   ]
  }
 ],
 "metadata": {
  "kernelspec": {
   "display_name": "Python 3",
   "language": "python",
   "name": "python3"
  },
  "language_info": {
   "name": "python",
   "version": "3.12.5"
  }
 },
 "nbformat": 4,
 "nbformat_minor": 2
}
