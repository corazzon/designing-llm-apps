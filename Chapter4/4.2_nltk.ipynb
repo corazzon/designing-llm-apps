{
 "cells": [
  {
   "cell_type": "code",
   "execution_count": 3,
   "metadata": {},
   "outputs": [],
   "source": [
    "# !pip install nltk\n",
    "# !uv pip install nltk"
   ]
  },
  {
   "cell_type": "code",
   "execution_count": 3,
   "metadata": {},
   "outputs": [
    {
     "name": "stderr",
     "output_type": "stream",
     "text": [
      "[nltk_data] Downloading package gutenberg to\n",
      "[nltk_data]     /Users/corazzon/nltk_data...\n",
      "[nltk_data]   Unzipping corpora/gutenberg.zip.\n"
     ]
    },
    {
     "data": {
      "text/plain": [
       "True"
      ]
     },
     "execution_count": 3,
     "metadata": {},
     "output_type": "execute_result"
    }
   ],
   "source": [
    "import nltk\n",
    "\n",
    "# Download the 'gutenberg' corpus if not already present\n",
    "nltk.download('gutenberg')"
   ]
  },
  {
   "cell_type": "code",
   "execution_count": 4,
   "metadata": {},
   "outputs": [
    {
     "name": "stdout",
     "output_type": "stream",
     "text": [
      "Displaying 11 of 11 matches:\n",
      "spirits required support . He was a nervous man , easily depressed ; fond of ev\n",
      "sitting for his picture made him so nervous , that I could only take him by ste\n",
      "assure you , excepting those little nervous head - aches and palpitations which\n",
      "ered --\" My visit was of use to the nervous part of her complaint , I hope ; bu\n",
      " much at ease on the subject as his nervous constitution allowed ; but the alar\n",
      "a had done . Her father was growing nervous , and could not understand _her_ . \n",
      "been of no service to the wilful or nervous part of her disorder . That she was\n",
      "rary increase of illness in her ; a nervous seizure , which had lasted some hou\n",
      "ring under severe headaches , and a nervous fever to a degree , which made him \n",
      "but observe , was unfavourable to a nervous disorder :-- confined always to one\n",
      "nd , or any wonderful change of his nervous system , but by the operation of th\n"
     ]
    }
   ],
   "source": [
    "from nltk.text import Text\n",
    "from nltk.corpus import gutenberg\n",
    "\n",
    "corpus = gutenberg.words('austen-emma.txt')\n",
    "text = Text(corpus)\n",
    "text.concordance(\"nervous\")"
   ]
  },
  {
   "cell_type": "code",
   "execution_count": null,
   "metadata": {},
   "outputs": [],
   "source": []
  }
 ],
 "metadata": {
  "kernelspec": {
   "display_name": ".venv",
   "language": "python",
   "name": "python3"
  },
  "language_info": {
   "codemirror_mode": {
    "name": "ipython",
    "version": 3
   },
   "file_extension": ".py",
   "mimetype": "text/x-python",
   "name": "python",
   "nbconvert_exporter": "python",
   "pygments_lexer": "ipython3",
   "version": "3.13.2"
  }
 },
 "nbformat": 4,
 "nbformat_minor": 2
}
