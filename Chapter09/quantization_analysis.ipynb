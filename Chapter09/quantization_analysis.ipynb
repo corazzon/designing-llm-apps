{
 "cells": [
  {
   "cell_type": "markdown",
   "metadata": {},
   "source": [
    "* \"Demystifying Floating Point Precision\", https://oreil.ly/uCYYl\n",
    "* Maarten Grootendors, \"A Visual Guide to Quantization\", https://oreil.ly/bpi3b"
   ]
  },
  {
   "cell_type": "code",
   "execution_count": 8,
   "metadata": {},
   "outputs": [],
   "source": [
    "import numpy as np\n",
    "import torch\n",
    "import pandas as pd"
   ]
  },
  {
   "cell_type": "code",
   "execution_count": 14,
   "metadata": {},
   "outputs": [
    {
     "data": {
      "text/plain": [
       "array([ 2.3888888e+00,  0.0000000e+00,  3.4444000e+01,  1.2348600e+05,\n",
       "       -1.2234565e+03], dtype=float32)"
      ]
     },
     "execution_count": 14,
     "metadata": {},
     "output_type": "execute_result"
    }
   ],
   "source": [
    "# Define the original numbers\n",
    "numbers = np.array([2.3888888, 0, 34.444, 12.3486e4, -1223.4566], dtype=np.float32)\n",
    "\n",
    "numbers"
   ]
  },
  {
   "cell_type": "code",
   "execution_count": 28,
   "metadata": {},
   "outputs": [],
   "source": [
    "# Convert numbers to different data types\n",
    "numbers_fp32 = torch.tensor(numbers, dtype=torch.float32)\n",
    "numbers_fp16 = numbers_fp32.to(torch.float16)\n",
    "numbers_bf16 = numbers_fp32.to(torch.bfloat16)\n",
    "numbers_int8 = numbers_fp32.to(torch.int8)\n"
   ]
  },
  {
   "cell_type": "code",
   "execution_count": 35,
   "metadata": {},
   "outputs": [],
   "source": [
    "def arithmetic_operations(tensor):\n",
    "    sum_val = tensor.sum().item()\n",
    "    product_val = tensor.prod().item()\n",
    "    mean_val = sum_val / tensor.numel()\n",
    "\n",
    "    return {\n",
    "        \"sum\": sum_val,\n",
    "        \"product\": product_val,\n",
    "        \"mean\": mean_val\n",
    "    }"
   ]
  },
  {
   "cell_type": "code",
   "execution_count": 38,
   "metadata": {},
   "outputs": [
    {
     "data": {
      "text/html": [
       "<div>\n",
       "<style scoped>\n",
       "    .dataframe tbody tr th:only-of-type {\n",
       "        vertical-align: middle;\n",
       "    }\n",
       "\n",
       "    .dataframe tbody tr th {\n",
       "        vertical-align: top;\n",
       "    }\n",
       "\n",
       "    .dataframe thead th {\n",
       "        text-align: right;\n",
       "    }\n",
       "</style>\n",
       "<table border=\"1\" class=\"dataframe\">\n",
       "  <thead>\n",
       "    <tr style=\"text-align: right;\">\n",
       "      <th></th>\n",
       "      <th>sum</th>\n",
       "      <th>product</th>\n",
       "      <th>mean</th>\n",
       "    </tr>\n",
       "  </thead>\n",
       "  <tbody>\n",
       "    <tr>\n",
       "      <th>float32</th>\n",
       "      <td>122299.375</td>\n",
       "      <td>-0.0</td>\n",
       "      <td>24459.875</td>\n",
       "    </tr>\n",
       "    <tr>\n",
       "      <th>float16</th>\n",
       "      <td>inf</td>\n",
       "      <td>NaN</td>\n",
       "      <td>inf</td>\n",
       "    </tr>\n",
       "    <tr>\n",
       "      <th>bfloat16</th>\n",
       "      <td>122368.000</td>\n",
       "      <td>-0.0</td>\n",
       "      <td>24473.600</td>\n",
       "    </tr>\n",
       "    <tr>\n",
       "      <th>int8</th>\n",
       "      <td>187.000</td>\n",
       "      <td>0.0</td>\n",
       "      <td>37.400</td>\n",
       "    </tr>\n",
       "  </tbody>\n",
       "</table>\n",
       "</div>"
      ],
      "text/plain": [
       "                 sum  product       mean\n",
       "float32   122299.375     -0.0  24459.875\n",
       "float16          inf      NaN        inf\n",
       "bfloat16  122368.000     -0.0  24473.600\n",
       "int8         187.000      0.0     37.400"
      ]
     },
     "execution_count": 38,
     "metadata": {},
     "output_type": "execute_result"
    }
   ],
   "source": [
    "# Compute results for each format\n",
    "results = {\n",
    "    \"float32\": arithmetic_operations(numbers_fp32),\n",
    "    \"float16\": arithmetic_operations(numbers_fp16),\n",
    "    \"bfloat16\": arithmetic_operations(numbers_bf16),\n",
    "    \"int8\": arithmetic_operations(numbers_int8)\n",
    "}\n",
    "\n",
    "# Create DataFrame to compare precision loss\n",
    "df_results = pd.DataFrame(results).T\n",
    "\n",
    "df_results"
   ]
  },
  {
   "cell_type": "code",
   "execution_count": 39,
   "metadata": {},
   "outputs": [
    {
     "name": "stdout",
     "output_type": "stream",
     "text": [
      "Quantization Effect on Arithmetic Precision:\n",
      "                 sum  product       mean\n",
      "float32   122299.375     -0.0  24459.875\n",
      "float16          inf      NaN        inf\n",
      "bfloat16  122368.000     -0.0  24473.600\n",
      "int8         187.000      0.0     37.400\n",
      "\n",
      "Precision Loss at Each Quantization Level:\n",
      "                 sum  product       mean\n",
      "float32        0.000      0.0      0.000\n",
      "float16          inf      NaN        inf\n",
      "bfloat16      68.625      0.0     13.725\n",
      "int8     -122112.375      0.0 -24422.475\n"
     ]
    }
   ],
   "source": [
    "# Compute absolute errors compared to float32\n",
    "errors = df_results - df_results.loc[\"float32\"]\n",
    "\n",
    "# Display results\n",
    "print(\"Quantization Effect on Arithmetic Precision:\")\n",
    "print(df_results)\n",
    "print(\"\\nPrecision Loss at Each Quantization Level:\")\n",
    "print(errors)\n"
   ]
  }
 ],
 "metadata": {
  "kernelspec": {
   "display_name": "myenv",
   "language": "python",
   "name": "python3"
  },
  "language_info": {
   "codemirror_mode": {
    "name": "ipython",
    "version": 3
   },
   "file_extension": ".py",
   "mimetype": "text/x-python",
   "name": "python",
   "nbconvert_exporter": "python",
   "pygments_lexer": "ipython3",
   "version": "3.10.16"
  }
 },
 "nbformat": 4,
 "nbformat_minor": 2
}
